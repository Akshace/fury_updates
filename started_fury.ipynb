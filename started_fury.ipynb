{
 "cells": [
  {
   "cell_type": "code",
   "execution_count": 11,
   "id": "07290156",
   "metadata": {},
   "outputs": [],
   "source": [
    "import numpy as np\n",
    "from fury import window, actor, ui, io, utils"
   ]
  },
  {
   "cell_type": "code",
   "execution_count": 12,
   "id": "82a43e87",
   "metadata": {},
   "outputs": [],
   "source": [
    "suzanne = io.load_polydata('Ch3_surface_Cleared_Kidney_Segmentation_081920.stl')\n",
    "suzanne = utils.get_polymapper_from_polydata(suzanne)\n",
    "suzanne = utils.get_actor_from_polymapper(suzanne)"
   ]
  },
  {
   "cell_type": "code",
   "execution_count": 13,
   "id": "0d1ceb40",
   "metadata": {},
   "outputs": [],
   "source": [
    "suzanne.GetProperty().SetOpacity(0.5)"
   ]
  },
  {
   "cell_type": "code",
   "execution_count": 14,
   "id": "a655f8d0",
   "metadata": {},
   "outputs": [],
   "source": [
    "centers = np.random.rand(2, 3)\n",
    "directions = np.random.rand(2, 3)\n",
    "heights = np.random.rand(2)\n",
    "colors = np.random.rand(2, 3)"
   ]
  },
  {
   "cell_type": "code",
   "execution_count": 15,
   "id": "c53ee247",
   "metadata": {},
   "outputs": [],
   "source": [
    "cylinders = actor.cylinder(centers, directions, colors, heights=heights)"
   ]
  },
  {
   "cell_type": "code",
   "execution_count": 16,
   "id": "af8c1be7",
   "metadata": {},
   "outputs": [],
   "source": [
    "scene = window.Scene()"
   ]
  },
  {
   "cell_type": "code",
   "execution_count": 17,
   "id": "a46100c4",
   "metadata": {},
   "outputs": [],
   "source": [
    "showm = window.ShowManager(scene, size=(1024,720), reset_camera=False)\n",
    "showm.initialize()"
   ]
  },
  {
   "cell_type": "code",
   "execution_count": 18,
   "id": "6c37aa34",
   "metadata": {},
   "outputs": [],
   "source": [
    "tb = ui.TextBlock2D()\n",
    "tb.message = \"Hello Fury\""
   ]
  },
  {
   "cell_type": "code",
   "execution_count": 19,
   "id": "2f225cf1",
   "metadata": {},
   "outputs": [],
   "source": [
    "scene.add(suzanne)\n",
    "scene.add(cylinders)\n",
    "scene.add(tb)"
   ]
  },
  {
   "cell_type": "code",
   "execution_count": 20,
   "id": "8842bee6",
   "metadata": {},
   "outputs": [],
   "source": [
    "showm.start()"
   ]
  },
  {
   "cell_type": "code",
   "execution_count": null,
   "id": "e84690ea",
   "metadata": {},
   "outputs": [],
   "source": []
  }
 ],
 "metadata": {
  "kernelspec": {
   "display_name": "Python 3",
   "language": "python",
   "name": "python3"
  },
  "language_info": {
   "codemirror_mode": {
    "name": "ipython",
    "version": 3
   },
   "file_extension": ".py",
   "mimetype": "text/x-python",
   "name": "python",
   "nbconvert_exporter": "python",
   "pygments_lexer": "ipython3",
   "version": "3.8.8"
  }
 },
 "nbformat": 4,
 "nbformat_minor": 5
}
